{
 "cells": [
  {
   "cell_type": "markdown",
   "metadata": {},
   "source": [
    "# Mahima Regunathan - Project - World Demographics"
   ]
  },
  {
   "cell_type": "markdown",
   "metadata": {},
   "source": [
    "## Description"
   ]
  },
  {
   "cell_type": "markdown",
   "metadata": {},
   "source": [
    "It is your task to explore and analyze a dataset. Using Pandas and visualization tools of your choice, you will extract insights by inspecting and comparing variables. You will summarize your conclusions and present your findings with plots. "
   ]
  },
  {
   "cell_type": "markdown",
   "metadata": {},
   "source": [
    "## Analysis strategy (10 pts)\n",
    "Describe your plan for analyzing the data, showing you understand the basic elements of exploratory data analysis.\n",
    "You may want to include a description of the dataset, an analysis strategy for reading in, manipulating, and analyzing data (e.g. pseudo code), including a description of steps and packages used. Describe the reason behind your methods. Hint: you may also fill this section out after your analysis after your analysis to clarify your methods. "
   ]
  },
  {
   "cell_type": "markdown",
   "metadata": {},
   "source": [
    "### Dataset:\n",
    "- This data set has world demographics information including Territory(Country), Population in 1000s, Infant Mortality Rate, Life Expectayc of Male and Female, Development Level, GDP per Capita, Health Expenditure per capita and so on.\n",
    "- There are a total of 33 columns and 239 rows.\n",
    "- Format is csv.\n",
    "\n",
    "### Reading in Data:\n",
    "- I am using pandas built-in function read_csv() to read the contents of the input dataset in csv format into a dataframe called \"demographics\".\n",
    "\n",
    "### Data Cleaning:\n",
    "\n",
    "#### Removing row with Territory as \"World\":\n",
    "- The dataset has the first row as \"World\" and has all the column values populated for all the countries together. \n",
    "- This would skew our analysis. So I removed this row as part of data cleaning.\n",
    "- This reduced the row count to 238.\n",
    "- I used slicing technique for this task.\n",
    "\n",
    "#### Removing Rows with Missing values:\n",
    "- There are some rows that are missing critical information that we need for analysis.\n",
    "- So as initial step for data cleaning, I am removing those rows from the dataset.\n",
    "- I am removing rows if its missing values in the following columns - \"Population\", \"GDP per Capita\", \"Infant Mortality Rate\", \"Overall Life Expectancy at Birth\", \"Development Level\".\n",
    "- After removing the above rows, I got 179 rows.\n",
    "- I used the dropna method of dataframe for this task.\n",
    "\n",
    "\n",
    "### Data Manipulation:\n",
    "\n",
    "#### New Column for Population:\n",
    "- The Population (1000) column provided in the dataset has values that are in 1000s.\n",
    "- So I am creating a new column with actual population values as it is better for analysis purposes.\n",
    "- New column called Population is added to the dataframe and values are calculated as Population (1000) * 1000\n",
    "- After this step, the dataset has 33 columns.\n",
    "- I used custom method to achieve this and applied it to the dataframe using apply method.\n",
    "\n",
    "#### Currency Columns:\n",
    "- Certain columns have currency values which has dollar sign included. These currency columns are typed as \"Object\" when checked.\n",
    "- I need those column values in numerical format for analysis.\n",
    "- Currency columns used for analysis - \"GDP per Capita\" and \"Health Expenditure per Capita\".\n",
    "- So I am replacing dollar sign in those columns (using regex).\n",
    "- I am also casting those columns as float type to help further processing & analysis.\n",
    "- I used regular expression for replacing the dollar sign.\n",
    "- I used custom function and apply method of dataframe to apply the replacing of sign for each row.\n",
    "- I also used astype(float) method of dataframe to cast the columns.\n",
    "\n",
    "### Analysis:\n",
    "\n",
    "#### Objective 1:\n",
    "- To determine how \"Total Median Age\" of a country affects its GDP and Development Age. \n",
    "- If I can get top 5 youngest and top 5 oldest countries by age of its population, I can cmopare to check how this affects the GDP / Development Level.\n",
    "<b>Method:</b>\n",
    "    - Sort the dataframe by \"Total Median Age\" ascending and then descending. Used \"Sort_values\" function of dataframe.\n",
    "    - Get the top 5 rows from each sorted set.\n",
    "    - Compare \"Developement Level\", \"GDP per Capita\" columns among these datasets to find some insight.\n",
    "\n",
    "#### Objective 2:\n",
    "- To compare Male and Female life expectancy and its distributions.\n",
    "- If I can compare the mean of the above, I can figure out who has more life expectancy.<br>\n",
    "<b>Method:</b>\n",
    "    - Obtain Mean value of Male and Female life expectancy and compare. Used built-in mean() function.\n",
    "    - Plot KDE distribution plot for Male and Female life expectancy and compare. Used sns distplot.\n",
    "\n",
    "#### Objective 3:\n",
    "- To determine the relationship between \"Literacy Ranking\" and \"Developement Level\".\n",
    "- If I get the highest countires in literacy ranking, I can determine if that has any relationship to Development Level.<br>\n",
    "<b>Method:</b>\n",
    "    - Got the dataframe rows where Literacy Ranking is 1.\n",
    "    - Compared different parameters of these countries.\n",
    "\n",
    "#### Objective 4:\n",
    "- To find out how the parameters - \"Infant Mortality Rate\", \"Overall Life Expectancy at Birth\", \"GDP per Capita\", \"Literacy Rate\", \"Health Expenditure per Capita\" fare between the different categories of \"Development Level\".\n",
    "- Since the countries are grouped by their development level, it would be interesting to see if this level correlates to the above parameters.<br>\n",
    "<b>Method:</b>\n",
    "    - Used groupby() method of dataframe to group the rows by \"Development Level\"\n",
    "    - Compared the values of the above parameters to find out relationship.\n",
    "\n",
    "#### Objective 5:\n",
    "- To find out how \"Infant Mortality Rate\" relates to \"Health Expenditure per Capita\".\n",
    "- Just based on intution that the healthcare expenditure must affect Infant mortality rate\n",
    "- Plotted a sns scatter plot to determine relationship. \n",
    "\n",
    "#### Objective 6:\n",
    "- To find out the realtionship between between GDP and Education years.\n",
    "- Plotted a sns scatter plot to determine relationship with an overlay of \"Development Level\"\n"
   ]
  },
  {
   "cell_type": "markdown",
   "metadata": {},
   "source": [
    "## Read in the file (5 pts)"
   ]
  },
  {
   "cell_type": "code",
   "execution_count": 1,
   "metadata": {},
   "outputs": [],
   "source": [
    "import pandas as pd"
   ]
  },
  {
   "cell_type": "code",
   "execution_count": 2,
   "metadata": {},
   "outputs": [
    {
     "data": {
      "text/html": [
       "<div>\n",
       "<style scoped>\n",
       "    .dataframe tbody tr th:only-of-type {\n",
       "        vertical-align: middle;\n",
       "    }\n",
       "\n",
       "    .dataframe tbody tr th {\n",
       "        vertical-align: top;\n",
       "    }\n",
       "\n",
       "    .dataframe thead th {\n",
       "        text-align: right;\n",
       "    }\n",
       "</style>\n",
       "<table border=\"1\" class=\"dataframe\">\n",
       "  <thead>\n",
       "    <tr style=\"text-align: right;\">\n",
       "      <th></th>\n",
       "      <th>Territory</th>\n",
       "      <th>Population (1000)</th>\n",
       "      <th>Crude Death Rate (1000)</th>\n",
       "      <th>Crude Birth Rate (1000)</th>\n",
       "      <th>Infant Mortality Rate</th>\n",
       "      <th>Infant Mortality Ranking</th>\n",
       "      <th>Five-Year Mortality Rate</th>\n",
       "      <th>Five-Year Mortality Ranking</th>\n",
       "      <th>M/F at Birth</th>\n",
       "      <th>M/F under 15</th>\n",
       "      <th>...</th>\n",
       "      <th>Years of Compulsory Education</th>\n",
       "      <th>HDI</th>\n",
       "      <th>HDI Ranking</th>\n",
       "      <th>Development Level</th>\n",
       "      <th>Literacy Rate</th>\n",
       "      <th>Literacy Ranking</th>\n",
       "      <th>GER</th>\n",
       "      <th>GDP per Capita</th>\n",
       "      <th>Health Expenditure per Capita</th>\n",
       "      <th>Health Expenditure per Capita Ranking</th>\n",
       "    </tr>\n",
       "  </thead>\n",
       "  <tbody>\n",
       "    <tr>\n",
       "      <th>0</th>\n",
       "      <td>World</td>\n",
       "      <td>6817462.939</td>\n",
       "      <td>8.60</td>\n",
       "      <td>20.30</td>\n",
       "      <td>42.09</td>\n",
       "      <td>NaN</td>\n",
       "      <td>73.7</td>\n",
       "      <td>NaN</td>\n",
       "      <td>1.07</td>\n",
       "      <td>1.06</td>\n",
       "      <td>...</td>\n",
       "      <td>NaN</td>\n",
       "      <td>NaN</td>\n",
       "      <td>NaN</td>\n",
       "      <td>NaN</td>\n",
       "      <td>NaN</td>\n",
       "      <td>NaN</td>\n",
       "      <td>NaN</td>\n",
       "      <td>$10310.29</td>\n",
       "      <td>$790.00</td>\n",
       "      <td>NaN</td>\n",
       "    </tr>\n",
       "    <tr>\n",
       "      <th>1</th>\n",
       "      <td>Afghanistan</td>\n",
       "      <td>28150.000</td>\n",
       "      <td>19.18</td>\n",
       "      <td>45.46</td>\n",
       "      <td>151.95</td>\n",
       "      <td>222.0</td>\n",
       "      <td>235.4</td>\n",
       "      <td>194.0</td>\n",
       "      <td>1.05</td>\n",
       "      <td>1.05</td>\n",
       "      <td>...</td>\n",
       "      <td>6.0</td>\n",
       "      <td>0.352</td>\n",
       "      <td>181.0</td>\n",
       "      <td>Low</td>\n",
       "      <td>NaN</td>\n",
       "      <td>NaN</td>\n",
       "      <td>50.1</td>\n",
       "      <td>$829.48</td>\n",
       "      <td>$91.00</td>\n",
       "      <td>136.0</td>\n",
       "    </tr>\n",
       "    <tr>\n",
       "      <th>2</th>\n",
       "      <td>Aland</td>\n",
       "      <td>NaN</td>\n",
       "      <td>NaN</td>\n",
       "      <td>NaN</td>\n",
       "      <td>NaN</td>\n",
       "      <td>NaN</td>\n",
       "      <td>NaN</td>\n",
       "      <td>NaN</td>\n",
       "      <td>NaN</td>\n",
       "      <td>NaN</td>\n",
       "      <td>...</td>\n",
       "      <td>NaN</td>\n",
       "      <td>NaN</td>\n",
       "      <td>NaN</td>\n",
       "      <td>NaN</td>\n",
       "      <td>NaN</td>\n",
       "      <td>NaN</td>\n",
       "      <td>NaN</td>\n",
       "      <td>NaN</td>\n",
       "      <td>NaN</td>\n",
       "      <td>NaN</td>\n",
       "    </tr>\n",
       "    <tr>\n",
       "      <th>3</th>\n",
       "      <td>Albania</td>\n",
       "      <td>3182.000</td>\n",
       "      <td>5.55</td>\n",
       "      <td>15.29</td>\n",
       "      <td>18.62</td>\n",
       "      <td>115.0</td>\n",
       "      <td>22.3</td>\n",
       "      <td>91.0</td>\n",
       "      <td>1.10</td>\n",
       "      <td>1.10</td>\n",
       "      <td>...</td>\n",
       "      <td>8.0</td>\n",
       "      <td>0.818</td>\n",
       "      <td>70.0</td>\n",
       "      <td>High</td>\n",
       "      <td>99.0</td>\n",
       "      <td>19.0</td>\n",
       "      <td>67.8</td>\n",
       "      <td>$7099.31</td>\n",
       "      <td>$381.00</td>\n",
       "      <td>90.0</td>\n",
       "    </tr>\n",
       "    <tr>\n",
       "      <th>4</th>\n",
       "      <td>Algeria</td>\n",
       "      <td>34895.000</td>\n",
       "      <td>4.64</td>\n",
       "      <td>16.90</td>\n",
       "      <td>27.73</td>\n",
       "      <td>145.0</td>\n",
       "      <td>33.2</td>\n",
       "      <td>120.0</td>\n",
       "      <td>1.05</td>\n",
       "      <td>1.04</td>\n",
       "      <td>...</td>\n",
       "      <td>9.0</td>\n",
       "      <td>0.754</td>\n",
       "      <td>104.0</td>\n",
       "      <td>Medium</td>\n",
       "      <td>69.9</td>\n",
       "      <td>135.0</td>\n",
       "      <td>73.6</td>\n",
       "      <td>$7001.00</td>\n",
       "      <td>$315.00</td>\n",
       "      <td>100.0</td>\n",
       "    </tr>\n",
       "  </tbody>\n",
       "</table>\n",
       "<p>5 rows × 32 columns</p>\n",
       "</div>"
      ],
      "text/plain": [
       "     Territory  Population (1000)  Crude Death Rate (1000)  \\\n",
       "0        World        6817462.939                     8.60   \n",
       "1  Afghanistan          28150.000                    19.18   \n",
       "2        Aland                NaN                      NaN   \n",
       "3      Albania           3182.000                     5.55   \n",
       "4      Algeria          34895.000                     4.64   \n",
       "\n",
       "   Crude Birth Rate (1000)  Infant Mortality Rate  Infant Mortality Ranking  \\\n",
       "0                    20.30                  42.09                       NaN   \n",
       "1                    45.46                 151.95                     222.0   \n",
       "2                      NaN                    NaN                       NaN   \n",
       "3                    15.29                  18.62                     115.0   \n",
       "4                    16.90                  27.73                     145.0   \n",
       "\n",
       "   Five-Year Mortality Rate  Five-Year Mortality Ranking  M/F at Birth  \\\n",
       "0                      73.7                          NaN          1.07   \n",
       "1                     235.4                        194.0          1.05   \n",
       "2                       NaN                          NaN           NaN   \n",
       "3                      22.3                         91.0          1.10   \n",
       "4                      33.2                        120.0          1.05   \n",
       "\n",
       "   M/F under 15  ...  Years of Compulsory Education    HDI  HDI Ranking  \\\n",
       "0          1.06  ...                            NaN    NaN          NaN   \n",
       "1          1.05  ...                            6.0  0.352        181.0   \n",
       "2           NaN  ...                            NaN    NaN          NaN   \n",
       "3          1.10  ...                            8.0  0.818         70.0   \n",
       "4          1.04  ...                            9.0  0.754        104.0   \n",
       "\n",
       "   Development Level  Literacy Rate  Literacy Ranking   GER  GDP per Capita  \\\n",
       "0                NaN            NaN               NaN   NaN       $10310.29   \n",
       "1                Low            NaN               NaN  50.1         $829.48   \n",
       "2                NaN            NaN               NaN   NaN             NaN   \n",
       "3               High           99.0              19.0  67.8        $7099.31   \n",
       "4             Medium           69.9             135.0  73.6        $7001.00   \n",
       "\n",
       "   Health Expenditure per Capita  Health Expenditure per Capita Ranking  \n",
       "0                        $790.00                                    NaN  \n",
       "1                         $91.00                                  136.0  \n",
       "2                            NaN                                    NaN  \n",
       "3                        $381.00                                   90.0  \n",
       "4                        $315.00                                  100.0  \n",
       "\n",
       "[5 rows x 32 columns]"
      ]
     },
     "execution_count": 2,
     "metadata": {},
     "output_type": "execute_result"
    }
   ],
   "source": [
    "#pd.set_option('display.precision',4)\n",
    "\n",
    "demographics = pd.read_csv(\"World Demographics.csv\")\n",
    "demographics.head()"
   ]
  },
  {
   "cell_type": "code",
   "execution_count": 3,
   "metadata": {},
   "outputs": [
    {
     "data": {
      "text/plain": [
       "Index(['Territory', 'Population (1000)', 'Crude Death Rate (1000)',\n",
       "       'Crude Birth Rate (1000)', 'Infant Mortality Rate',\n",
       "       'Infant Mortality Ranking', 'Five-Year Mortality Rate',\n",
       "       'Five-Year Mortality Ranking', 'M/F at Birth', 'M/F under 15',\n",
       "       'M/F 15–30', 'M/F over 65', 'M/F Total', 'Total Median Age',\n",
       "       'Male Median Age', 'Female Median Age',\n",
       "       'Overall Life Expectancy at Birth', 'Male Life Expectancy at Birth',\n",
       "       'Female Life Expectancy at Birth', 'Life Expectancy Ranking',\n",
       "       'GDP (PPP) $M', 'Average Years of Education of Adults',\n",
       "       'Years of Compulsory Education', 'HDI', 'HDI Ranking',\n",
       "       'Development Level', 'Literacy Rate', 'Literacy Ranking', 'GER',\n",
       "       'GDP per Capita', 'Health Expenditure per Capita',\n",
       "       'Health Expenditure per Capita Ranking'],\n",
       "      dtype='object')"
      ]
     },
     "execution_count": 3,
     "metadata": {},
     "output_type": "execute_result"
    }
   ],
   "source": [
    "demographics.columns"
   ]
  },
  {
   "cell_type": "markdown",
   "metadata": {},
   "source": [
    "## Data Cleaning and Data Manipulation (some uses Custom Functions)"
   ]
  },
  {
   "cell_type": "code",
   "execution_count": 4,
   "metadata": {},
   "outputs": [
    {
     "data": {
      "text/html": [
       "<div>\n",
       "<style scoped>\n",
       "    .dataframe tbody tr th:only-of-type {\n",
       "        vertical-align: middle;\n",
       "    }\n",
       "\n",
       "    .dataframe tbody tr th {\n",
       "        vertical-align: top;\n",
       "    }\n",
       "\n",
       "    .dataframe thead th {\n",
       "        text-align: right;\n",
       "    }\n",
       "</style>\n",
       "<table border=\"1\" class=\"dataframe\">\n",
       "  <thead>\n",
       "    <tr style=\"text-align: right;\">\n",
       "      <th></th>\n",
       "      <th>Territory</th>\n",
       "      <th>Population (1000)</th>\n",
       "      <th>Crude Death Rate (1000)</th>\n",
       "      <th>Crude Birth Rate (1000)</th>\n",
       "      <th>Infant Mortality Rate</th>\n",
       "      <th>Infant Mortality Ranking</th>\n",
       "      <th>Five-Year Mortality Rate</th>\n",
       "      <th>Five-Year Mortality Ranking</th>\n",
       "      <th>M/F at Birth</th>\n",
       "      <th>M/F under 15</th>\n",
       "      <th>...</th>\n",
       "      <th>HDI</th>\n",
       "      <th>HDI Ranking</th>\n",
       "      <th>Development Level</th>\n",
       "      <th>Literacy Rate</th>\n",
       "      <th>Literacy Ranking</th>\n",
       "      <th>GER</th>\n",
       "      <th>GDP per Capita</th>\n",
       "      <th>Health Expenditure per Capita</th>\n",
       "      <th>Health Expenditure per Capita Ranking</th>\n",
       "      <th>Population</th>\n",
       "    </tr>\n",
       "  </thead>\n",
       "  <tbody>\n",
       "    <tr>\n",
       "      <th>0</th>\n",
       "      <td>World</td>\n",
       "      <td>6817462.939</td>\n",
       "      <td>8.60</td>\n",
       "      <td>20.30</td>\n",
       "      <td>42.09</td>\n",
       "      <td>NaN</td>\n",
       "      <td>73.7</td>\n",
       "      <td>NaN</td>\n",
       "      <td>1.07</td>\n",
       "      <td>1.06</td>\n",
       "      <td>...</td>\n",
       "      <td>NaN</td>\n",
       "      <td>NaN</td>\n",
       "      <td>NaN</td>\n",
       "      <td>NaN</td>\n",
       "      <td>NaN</td>\n",
       "      <td>NaN</td>\n",
       "      <td>$10310.29</td>\n",
       "      <td>$790.00</td>\n",
       "      <td>NaN</td>\n",
       "      <td>6.817463e+09</td>\n",
       "    </tr>\n",
       "    <tr>\n",
       "      <th>1</th>\n",
       "      <td>Afghanistan</td>\n",
       "      <td>28150.000</td>\n",
       "      <td>19.18</td>\n",
       "      <td>45.46</td>\n",
       "      <td>151.95</td>\n",
       "      <td>222.0</td>\n",
       "      <td>235.4</td>\n",
       "      <td>194.0</td>\n",
       "      <td>1.05</td>\n",
       "      <td>1.05</td>\n",
       "      <td>...</td>\n",
       "      <td>0.352</td>\n",
       "      <td>181.0</td>\n",
       "      <td>Low</td>\n",
       "      <td>NaN</td>\n",
       "      <td>NaN</td>\n",
       "      <td>50.1</td>\n",
       "      <td>$829.48</td>\n",
       "      <td>$91.00</td>\n",
       "      <td>136.0</td>\n",
       "      <td>2.815000e+07</td>\n",
       "    </tr>\n",
       "    <tr>\n",
       "      <th>2</th>\n",
       "      <td>Aland</td>\n",
       "      <td>NaN</td>\n",
       "      <td>NaN</td>\n",
       "      <td>NaN</td>\n",
       "      <td>NaN</td>\n",
       "      <td>NaN</td>\n",
       "      <td>NaN</td>\n",
       "      <td>NaN</td>\n",
       "      <td>NaN</td>\n",
       "      <td>NaN</td>\n",
       "      <td>...</td>\n",
       "      <td>NaN</td>\n",
       "      <td>NaN</td>\n",
       "      <td>NaN</td>\n",
       "      <td>NaN</td>\n",
       "      <td>NaN</td>\n",
       "      <td>NaN</td>\n",
       "      <td>NaN</td>\n",
       "      <td>NaN</td>\n",
       "      <td>NaN</td>\n",
       "      <td>NaN</td>\n",
       "    </tr>\n",
       "    <tr>\n",
       "      <th>3</th>\n",
       "      <td>Albania</td>\n",
       "      <td>3182.000</td>\n",
       "      <td>5.55</td>\n",
       "      <td>15.29</td>\n",
       "      <td>18.62</td>\n",
       "      <td>115.0</td>\n",
       "      <td>22.3</td>\n",
       "      <td>91.0</td>\n",
       "      <td>1.10</td>\n",
       "      <td>1.10</td>\n",
       "      <td>...</td>\n",
       "      <td>0.818</td>\n",
       "      <td>70.0</td>\n",
       "      <td>High</td>\n",
       "      <td>99.0</td>\n",
       "      <td>19.0</td>\n",
       "      <td>67.8</td>\n",
       "      <td>$7099.31</td>\n",
       "      <td>$381.00</td>\n",
       "      <td>90.0</td>\n",
       "      <td>3.182000e+06</td>\n",
       "    </tr>\n",
       "    <tr>\n",
       "      <th>4</th>\n",
       "      <td>Algeria</td>\n",
       "      <td>34895.000</td>\n",
       "      <td>4.64</td>\n",
       "      <td>16.90</td>\n",
       "      <td>27.73</td>\n",
       "      <td>145.0</td>\n",
       "      <td>33.2</td>\n",
       "      <td>120.0</td>\n",
       "      <td>1.05</td>\n",
       "      <td>1.04</td>\n",
       "      <td>...</td>\n",
       "      <td>0.754</td>\n",
       "      <td>104.0</td>\n",
       "      <td>Medium</td>\n",
       "      <td>69.9</td>\n",
       "      <td>135.0</td>\n",
       "      <td>73.6</td>\n",
       "      <td>$7001.00</td>\n",
       "      <td>$315.00</td>\n",
       "      <td>100.0</td>\n",
       "      <td>3.489500e+07</td>\n",
       "    </tr>\n",
       "  </tbody>\n",
       "</table>\n",
       "<p>5 rows × 33 columns</p>\n",
       "</div>"
      ],
      "text/plain": [
       "     Territory  Population (1000)  Crude Death Rate (1000)  \\\n",
       "0        World        6817462.939                     8.60   \n",
       "1  Afghanistan          28150.000                    19.18   \n",
       "2        Aland                NaN                      NaN   \n",
       "3      Albania           3182.000                     5.55   \n",
       "4      Algeria          34895.000                     4.64   \n",
       "\n",
       "   Crude Birth Rate (1000)  Infant Mortality Rate  Infant Mortality Ranking  \\\n",
       "0                    20.30                  42.09                       NaN   \n",
       "1                    45.46                 151.95                     222.0   \n",
       "2                      NaN                    NaN                       NaN   \n",
       "3                    15.29                  18.62                     115.0   \n",
       "4                    16.90                  27.73                     145.0   \n",
       "\n",
       "   Five-Year Mortality Rate  Five-Year Mortality Ranking  M/F at Birth  \\\n",
       "0                      73.7                          NaN          1.07   \n",
       "1                     235.4                        194.0          1.05   \n",
       "2                       NaN                          NaN           NaN   \n",
       "3                      22.3                         91.0          1.10   \n",
       "4                      33.2                        120.0          1.05   \n",
       "\n",
       "   M/F under 15  ...    HDI  HDI Ranking  Development Level  Literacy Rate  \\\n",
       "0          1.06  ...    NaN          NaN                NaN            NaN   \n",
       "1          1.05  ...  0.352        181.0                Low            NaN   \n",
       "2           NaN  ...    NaN          NaN                NaN            NaN   \n",
       "3          1.10  ...  0.818         70.0               High           99.0   \n",
       "4          1.04  ...  0.754        104.0             Medium           69.9   \n",
       "\n",
       "   Literacy Ranking   GER  GDP per Capita  Health Expenditure per Capita  \\\n",
       "0               NaN   NaN       $10310.29                        $790.00   \n",
       "1               NaN  50.1         $829.48                         $91.00   \n",
       "2               NaN   NaN             NaN                            NaN   \n",
       "3              19.0  67.8        $7099.31                        $381.00   \n",
       "4             135.0  73.6        $7001.00                        $315.00   \n",
       "\n",
       "   Health Expenditure per Capita Ranking    Population  \n",
       "0                                    NaN  6.817463e+09  \n",
       "1                                  136.0  2.815000e+07  \n",
       "2                                    NaN           NaN  \n",
       "3                                   90.0  3.182000e+06  \n",
       "4                                  100.0  3.489500e+07  \n",
       "\n",
       "[5 rows x 33 columns]"
      ]
     },
     "execution_count": 4,
     "metadata": {},
     "output_type": "execute_result"
    }
   ],
   "source": [
    "# Custom function to populate new column based on existing column for data analysis\n",
    "# The \"Population (1000)\" column provided in the dataset has values that are in 1000s.\n",
    "# So its better to create a new column with actual population values for analysis purposes\n",
    "\n",
    "def createNewColumn(val):\n",
    "    return val * 1000\n",
    "    \n",
    "demographics[\"Population\"] = demographics.apply(lambda x: createNewColumn(x[\"Population (1000)\"]), axis = 1)\n",
    "demographics.head()"
   ]
  },
  {
   "cell_type": "code",
   "execution_count": 5,
   "metadata": {},
   "outputs": [
    {
     "data": {
      "text/html": [
       "<div>\n",
       "<style scoped>\n",
       "    .dataframe tbody tr th:only-of-type {\n",
       "        vertical-align: middle;\n",
       "    }\n",
       "\n",
       "    .dataframe tbody tr th {\n",
       "        vertical-align: top;\n",
       "    }\n",
       "\n",
       "    .dataframe thead th {\n",
       "        text-align: right;\n",
       "    }\n",
       "</style>\n",
       "<table border=\"1\" class=\"dataframe\">\n",
       "  <thead>\n",
       "    <tr style=\"text-align: right;\">\n",
       "      <th></th>\n",
       "      <th>Territory</th>\n",
       "      <th>Population (1000)</th>\n",
       "      <th>Crude Death Rate (1000)</th>\n",
       "      <th>Crude Birth Rate (1000)</th>\n",
       "      <th>Infant Mortality Rate</th>\n",
       "      <th>Infant Mortality Ranking</th>\n",
       "      <th>Five-Year Mortality Rate</th>\n",
       "      <th>Five-Year Mortality Ranking</th>\n",
       "      <th>M/F at Birth</th>\n",
       "      <th>M/F under 15</th>\n",
       "      <th>...</th>\n",
       "      <th>HDI</th>\n",
       "      <th>HDI Ranking</th>\n",
       "      <th>Development Level</th>\n",
       "      <th>Literacy Rate</th>\n",
       "      <th>Literacy Ranking</th>\n",
       "      <th>GER</th>\n",
       "      <th>GDP per Capita</th>\n",
       "      <th>Health Expenditure per Capita</th>\n",
       "      <th>Health Expenditure per Capita Ranking</th>\n",
       "      <th>Population</th>\n",
       "    </tr>\n",
       "  </thead>\n",
       "  <tbody>\n",
       "    <tr>\n",
       "      <th>1</th>\n",
       "      <td>Afghanistan</td>\n",
       "      <td>28150.0</td>\n",
       "      <td>19.18</td>\n",
       "      <td>45.46</td>\n",
       "      <td>151.95</td>\n",
       "      <td>222.0</td>\n",
       "      <td>235.4</td>\n",
       "      <td>194.0</td>\n",
       "      <td>1.05</td>\n",
       "      <td>1.05</td>\n",
       "      <td>...</td>\n",
       "      <td>0.352</td>\n",
       "      <td>181.0</td>\n",
       "      <td>Low</td>\n",
       "      <td>NaN</td>\n",
       "      <td>NaN</td>\n",
       "      <td>50.1</td>\n",
       "      <td>$829.48</td>\n",
       "      <td>$91.00</td>\n",
       "      <td>136.0</td>\n",
       "      <td>28150000.0</td>\n",
       "    </tr>\n",
       "    <tr>\n",
       "      <th>2</th>\n",
       "      <td>Aland</td>\n",
       "      <td>NaN</td>\n",
       "      <td>NaN</td>\n",
       "      <td>NaN</td>\n",
       "      <td>NaN</td>\n",
       "      <td>NaN</td>\n",
       "      <td>NaN</td>\n",
       "      <td>NaN</td>\n",
       "      <td>NaN</td>\n",
       "      <td>NaN</td>\n",
       "      <td>...</td>\n",
       "      <td>NaN</td>\n",
       "      <td>NaN</td>\n",
       "      <td>NaN</td>\n",
       "      <td>NaN</td>\n",
       "      <td>NaN</td>\n",
       "      <td>NaN</td>\n",
       "      <td>NaN</td>\n",
       "      <td>NaN</td>\n",
       "      <td>NaN</td>\n",
       "      <td>NaN</td>\n",
       "    </tr>\n",
       "    <tr>\n",
       "      <th>3</th>\n",
       "      <td>Albania</td>\n",
       "      <td>3182.0</td>\n",
       "      <td>5.55</td>\n",
       "      <td>15.29</td>\n",
       "      <td>18.62</td>\n",
       "      <td>115.0</td>\n",
       "      <td>22.3</td>\n",
       "      <td>91.0</td>\n",
       "      <td>1.10</td>\n",
       "      <td>1.10</td>\n",
       "      <td>...</td>\n",
       "      <td>0.818</td>\n",
       "      <td>70.0</td>\n",
       "      <td>High</td>\n",
       "      <td>99.0</td>\n",
       "      <td>19.0</td>\n",
       "      <td>67.8</td>\n",
       "      <td>$7099.31</td>\n",
       "      <td>$381.00</td>\n",
       "      <td>90.0</td>\n",
       "      <td>3182000.0</td>\n",
       "    </tr>\n",
       "    <tr>\n",
       "      <th>4</th>\n",
       "      <td>Algeria</td>\n",
       "      <td>34895.0</td>\n",
       "      <td>4.64</td>\n",
       "      <td>16.90</td>\n",
       "      <td>27.73</td>\n",
       "      <td>145.0</td>\n",
       "      <td>33.2</td>\n",
       "      <td>120.0</td>\n",
       "      <td>1.05</td>\n",
       "      <td>1.04</td>\n",
       "      <td>...</td>\n",
       "      <td>0.754</td>\n",
       "      <td>104.0</td>\n",
       "      <td>Medium</td>\n",
       "      <td>69.9</td>\n",
       "      <td>135.0</td>\n",
       "      <td>73.6</td>\n",
       "      <td>$7001.00</td>\n",
       "      <td>$315.00</td>\n",
       "      <td>100.0</td>\n",
       "      <td>34895000.0</td>\n",
       "    </tr>\n",
       "    <tr>\n",
       "      <th>5</th>\n",
       "      <td>American Samoa</td>\n",
       "      <td>67.0</td>\n",
       "      <td>4.10</td>\n",
       "      <td>23.31</td>\n",
       "      <td>10.18</td>\n",
       "      <td>72.0</td>\n",
       "      <td>NaN</td>\n",
       "      <td>NaN</td>\n",
       "      <td>1.06</td>\n",
       "      <td>1.04</td>\n",
       "      <td>...</td>\n",
       "      <td>NaN</td>\n",
       "      <td>NaN</td>\n",
       "      <td>NaN</td>\n",
       "      <td>NaN</td>\n",
       "      <td>NaN</td>\n",
       "      <td>NaN</td>\n",
       "      <td>$8582.09</td>\n",
       "      <td>NaN</td>\n",
       "      <td>NaN</td>\n",
       "      <td>67000.0</td>\n",
       "    </tr>\n",
       "  </tbody>\n",
       "</table>\n",
       "<p>5 rows × 33 columns</p>\n",
       "</div>"
      ],
      "text/plain": [
       "        Territory  Population (1000)  Crude Death Rate (1000)  \\\n",
       "1     Afghanistan            28150.0                    19.18   \n",
       "2           Aland                NaN                      NaN   \n",
       "3         Albania             3182.0                     5.55   \n",
       "4         Algeria            34895.0                     4.64   \n",
       "5  American Samoa               67.0                     4.10   \n",
       "\n",
       "   Crude Birth Rate (1000)  Infant Mortality Rate  Infant Mortality Ranking  \\\n",
       "1                    45.46                 151.95                     222.0   \n",
       "2                      NaN                    NaN                       NaN   \n",
       "3                    15.29                  18.62                     115.0   \n",
       "4                    16.90                  27.73                     145.0   \n",
       "5                    23.31                  10.18                      72.0   \n",
       "\n",
       "   Five-Year Mortality Rate  Five-Year Mortality Ranking  M/F at Birth  \\\n",
       "1                     235.4                        194.0          1.05   \n",
       "2                       NaN                          NaN           NaN   \n",
       "3                      22.3                         91.0          1.10   \n",
       "4                      33.2                        120.0          1.05   \n",
       "5                       NaN                          NaN          1.06   \n",
       "\n",
       "   M/F under 15  ...    HDI  HDI Ranking  Development Level  Literacy Rate  \\\n",
       "1          1.05  ...  0.352        181.0                Low            NaN   \n",
       "2           NaN  ...    NaN          NaN                NaN            NaN   \n",
       "3          1.10  ...  0.818         70.0               High           99.0   \n",
       "4          1.04  ...  0.754        104.0             Medium           69.9   \n",
       "5          1.04  ...    NaN          NaN                NaN            NaN   \n",
       "\n",
       "   Literacy Ranking   GER  GDP per Capita  Health Expenditure per Capita  \\\n",
       "1               NaN  50.1         $829.48                         $91.00   \n",
       "2               NaN   NaN             NaN                            NaN   \n",
       "3              19.0  67.8        $7099.31                        $381.00   \n",
       "4             135.0  73.6        $7001.00                        $315.00   \n",
       "5               NaN   NaN        $8582.09                            NaN   \n",
       "\n",
       "   Health Expenditure per Capita Ranking  Population  \n",
       "1                                  136.0  28150000.0  \n",
       "2                                    NaN         NaN  \n",
       "3                                   90.0   3182000.0  \n",
       "4                                  100.0  34895000.0  \n",
       "5                                    NaN     67000.0  \n",
       "\n",
       "[5 rows x 33 columns]"
      ]
     },
     "execution_count": 5,
     "metadata": {},
     "output_type": "execute_result"
    }
   ],
   "source": [
    "# Function to remove the row with \"World\" since this has the data for \n",
    "# all the countries put together and this will skew the analysis.\n",
    "# We are interested in analysing the demographics across all the countries\n",
    "# This comes under Data manipulation\n",
    "\n",
    "def removeFirstRow(df):\n",
    "    return df[1:]\n",
    "    \n",
    "demographics = removeFirstRow(demographics)\n",
    "demographics.head()"
   ]
  },
  {
   "cell_type": "code",
   "execution_count": 6,
   "metadata": {},
   "outputs": [
    {
     "name": "stdout",
     "output_type": "stream",
     "text": [
      "Shape before dropping null rows (238, 33)\n",
      "Shape after dropping null rows (179, 33)\n",
      "Total of 59 rows have been removed in this step\n"
     ]
    }
   ],
   "source": [
    "# Function to drop rows if certain columns are null. \n",
    "# There are several rows that has null values for certain important columns like \"Population\"\n",
    "# It is better to remove them before analysis\n",
    "\n",
    "def dropNullRows(df):\n",
    "    df.dropna(subset = [\"Population\", \"GDP per Capita\", \"Infant Mortality Rate\", \"Overall Life Expectancy at Birth\", \"Development Level\"], inplace = True)\n",
    "    \n",
    "    \n",
    "print(\"Shape before dropping null rows\", demographics.shape)\n",
    "prev_rows = demographics.shape[0]\n",
    "dropNullRows(demographics)\n",
    "print(\"Shape after dropping null rows\", demographics.shape)\n",
    "new_rows = demographics.shape[0]\n",
    "\n",
    "delta = prev_rows - new_rows\n",
    "\n",
    "print(\"Total of\", delta,\"rows have been removed in this step\")"
   ]
  },
  {
   "cell_type": "code",
   "execution_count": 7,
   "metadata": {},
   "outputs": [
    {
     "name": "stdout",
     "output_type": "stream",
     "text": [
      "object\n",
      "object\n",
      "float64\n",
      "float64\n"
     ]
    }
   ],
   "source": [
    "# Custom function to convert currency columns to float type\n",
    "import re\n",
    "\n",
    "def castCurrencyColumns(df):\n",
    "    df[\"GDP per Capita\"] = df[\"GDP per Capita\"].replace('[\\$,]', '', regex=True).astype(float)\n",
    "    df[\"Health Expenditure per Capita\"] = df[\"Health Expenditure per Capita\"].replace('[\\$,]', '', regex=True).astype(float)\n",
    "    \n",
    "\n",
    "# Custom function to convert currency columns to float type\n",
    "def replaceCurrencySymbol(val):\n",
    "    if str(val) == '':\n",
    "        return 0\n",
    "    else:\n",
    "        return re.sub('[\\$,]', '', str(val))\n",
    "\n",
    "\n",
    "demographics[\"GDP per Capita\"] = demographics.apply(lambda x: replaceCurrencySymbol(x[\"GDP per Capita\"]), axis = 1)\n",
    "demographics[\"Health Expenditure per Capita\"] = demographics.apply(lambda x: replaceCurrencySymbol(x[\"Health Expenditure per Capita\"]), axis = 1)\n",
    "      \n",
    "print(demographics[\"GDP per Capita\"].dtype)\n",
    "print(demographics[\"Health Expenditure per Capita\"].dtype)\n",
    "demographics[\"GDP per Capita\"] = demographics[\"GDP per Capita\"].astype(float)\n",
    "demographics[\"Health Expenditure per Capita\"] = demographics[\"Health Expenditure per Capita\"].astype(float)\n",
    "print(demographics[\"GDP per Capita\"].dtype)\n",
    "print(demographics[\"Health Expenditure per Capita\"].dtype)"
   ]
  },
  {
   "cell_type": "markdown",
   "metadata": {},
   "source": [
    "## Pandas insights (5 pts)\n",
    "Provide at least 3 insights using Pandas. These may include descriptive statistics such as mean, median, counts, etc. Use built-in Pandas functions."
   ]
  },
  {
   "cell_type": "markdown",
   "metadata": {},
   "source": [
    "### Insight 1"
   ]
  },
  {
   "cell_type": "code",
   "execution_count": 8,
   "metadata": {},
   "outputs": [
    {
     "data": {
      "text/html": [
       "<div>\n",
       "<style scoped>\n",
       "    .dataframe tbody tr th:only-of-type {\n",
       "        vertical-align: middle;\n",
       "    }\n",
       "\n",
       "    .dataframe tbody tr th {\n",
       "        vertical-align: top;\n",
       "    }\n",
       "\n",
       "    .dataframe thead th {\n",
       "        text-align: right;\n",
       "    }\n",
       "</style>\n",
       "<table border=\"1\" class=\"dataframe\">\n",
       "  <thead>\n",
       "    <tr style=\"text-align: right;\">\n",
       "      <th></th>\n",
       "      <th>Territory</th>\n",
       "      <th>Total Median Age</th>\n",
       "      <th>Development Level</th>\n",
       "      <th>GDP per Capita</th>\n",
       "    </tr>\n",
       "  </thead>\n",
       "  <tbody>\n",
       "    <tr>\n",
       "      <th>223</th>\n",
       "      <td>Uganda</td>\n",
       "      <td>15.0</td>\n",
       "      <td>Medium</td>\n",
       "      <td>1289.51</td>\n",
       "    </tr>\n",
       "    <tr>\n",
       "      <th>155</th>\n",
       "      <td>Niger</td>\n",
       "      <td>15.2</td>\n",
       "      <td>Low</td>\n",
       "      <td>703.07</td>\n",
       "    </tr>\n",
       "    <tr>\n",
       "      <th>133</th>\n",
       "      <td>Mali</td>\n",
       "      <td>15.8</td>\n",
       "      <td>Low</td>\n",
       "      <td>1059.43</td>\n",
       "    </tr>\n",
       "    <tr>\n",
       "      <th>184</th>\n",
       "      <td>Sao Tome and Principe</td>\n",
       "      <td>16.4</td>\n",
       "      <td>Medium</td>\n",
       "      <td>1791.41</td>\n",
       "    </tr>\n",
       "    <tr>\n",
       "      <th>51</th>\n",
       "      <td>Congo, the Democratic Republic of the</td>\n",
       "      <td>16.4</td>\n",
       "      <td>Low</td>\n",
       "      <td>327.78</td>\n",
       "    </tr>\n",
       "  </tbody>\n",
       "</table>\n",
       "</div>"
      ],
      "text/plain": [
       "                                 Territory  Total Median Age  \\\n",
       "223                                 Uganda              15.0   \n",
       "155                                  Niger              15.2   \n",
       "133                                   Mali              15.8   \n",
       "184                  Sao Tome and Principe              16.4   \n",
       "51   Congo, the Democratic Republic of the              16.4   \n",
       "\n",
       "    Development Level  GDP per Capita  \n",
       "223            Medium         1289.51  \n",
       "155               Low          703.07  \n",
       "133               Low         1059.43  \n",
       "184            Medium         1791.41  \n",
       "51                Low          327.78  "
      ]
     },
     "execution_count": 8,
     "metadata": {},
     "output_type": "execute_result"
    }
   ],
   "source": [
    "# Top 5 youngest and oldest countries (by Median age of the population)\n",
    "\n",
    "# Top 5 youngest countries\n",
    "youngest_five = demographics.sort_values(\"Total Median Age\")\n",
    "youngest_five = youngest_five[[\"Territory\", \"Total Median Age\", \"Development Level\", \"GDP per Capita\"]]\n",
    "youngest_five.head()"
   ]
  },
  {
   "cell_type": "code",
   "execution_count": 9,
   "metadata": {},
   "outputs": [
    {
     "data": {
      "text/html": [
       "<div>\n",
       "<style scoped>\n",
       "    .dataframe tbody tr th:only-of-type {\n",
       "        vertical-align: middle;\n",
       "    }\n",
       "\n",
       "    .dataframe tbody tr th {\n",
       "        vertical-align: top;\n",
       "    }\n",
       "\n",
       "    .dataframe thead th {\n",
       "        text-align: right;\n",
       "    }\n",
       "</style>\n",
       "<table border=\"1\" class=\"dataframe\">\n",
       "  <thead>\n",
       "    <tr style=\"text-align: right;\">\n",
       "      <th></th>\n",
       "      <th>Territory</th>\n",
       "      <th>Total Median Age</th>\n",
       "      <th>Development Level</th>\n",
       "      <th>GDP per Capita</th>\n",
       "    </tr>\n",
       "  </thead>\n",
       "  <tbody>\n",
       "    <tr>\n",
       "      <th>108</th>\n",
       "      <td>Japan</td>\n",
       "      <td>44.2</td>\n",
       "      <td>Very High</td>\n",
       "      <td>32477.63</td>\n",
       "    </tr>\n",
       "    <tr>\n",
       "      <th>81</th>\n",
       "      <td>Germany</td>\n",
       "      <td>43.8</td>\n",
       "      <td>Very High</td>\n",
       "      <td>34382.12</td>\n",
       "    </tr>\n",
       "    <tr>\n",
       "      <th>106</th>\n",
       "      <td>Italy</td>\n",
       "      <td>43.3</td>\n",
       "      <td>Very High</td>\n",
       "      <td>29174.91</td>\n",
       "    </tr>\n",
       "    <tr>\n",
       "      <th>96</th>\n",
       "      <td>Hong Kong</td>\n",
       "      <td>42.3</td>\n",
       "      <td>Very High</td>\n",
       "      <td>42881.13</td>\n",
       "    </tr>\n",
       "    <tr>\n",
       "      <th>15</th>\n",
       "      <td>Austria</td>\n",
       "      <td>42.2</td>\n",
       "      <td>Very High</td>\n",
       "      <td>39066.37</td>\n",
       "    </tr>\n",
       "  </tbody>\n",
       "</table>\n",
       "</div>"
      ],
      "text/plain": [
       "     Territory  Total Median Age Development Level  GDP per Capita\n",
       "108      Japan              44.2         Very High        32477.63\n",
       "81     Germany              43.8         Very High        34382.12\n",
       "106      Italy              43.3         Very High        29174.91\n",
       "96   Hong Kong              42.3         Very High        42881.13\n",
       "15     Austria              42.2         Very High        39066.37"
      ]
     },
     "execution_count": 9,
     "metadata": {},
     "output_type": "execute_result"
    }
   ],
   "source": [
    "# Top 5 oldest countries\n",
    "oldest_five = demographics.sort_values(\"Total Median Age\", ascending = False)\n",
    "oldest_five = oldest_five[[\"Territory\", \"Total Median Age\", \"Development Level\", \"GDP per Capita\"]]\n",
    "oldest_five.head()"
   ]
  },
  {
   "cell_type": "markdown",
   "metadata": {},
   "source": [
    "Insight:\n",
    "- As can be seen, the countires with highest median age are all Very highly developed with a very high GDP.\n",
    "- On the contrary, the countires with lowest median age are not well developed (either Low / Medium) and have lower GDP.\n",
    "- One possible explanation is that when a country become sdeveloped, population growth rate decreases hence Median age increases.\n",
    "- Another possible explanation can be that when a lot of population is much younger than the working age, the country's GDP is low."
   ]
  },
  {
   "cell_type": "markdown",
   "metadata": {},
   "source": [
    "### Insight 2"
   ]
  },
  {
   "cell_type": "code",
   "execution_count": 10,
   "metadata": {},
   "outputs": [],
   "source": [
    "# Function that checks which value is greater in the passed paramter - for life expectancy comparison\n",
    "def whoHasGreaterLifeExpectancy(male, female):\n",
    "    if female > male:\n",
    "        return \"F\"\n",
    "    else:\n",
    "        return \"M\""
   ]
  },
  {
   "cell_type": "code",
   "execution_count": 11,
   "metadata": {},
   "outputs": [
    {
     "name": "stdout",
     "output_type": "stream",
     "text": [
      "Mean value of Male life expectancy is 65.98480446927378 \n",
      "whereas Mean value of Female life expectancy is 70.80882681564245\n",
      "Women seem to have a longer life expectancy than men!\n"
     ]
    }
   ],
   "source": [
    "# Comparison of Life Expectancy Men VS Women\n",
    "\n",
    "mean_male_expectancy = demographics[\"Male Life Expectancy at Birth\"].mean()\n",
    "mean_female_expectancy = demographics[\"Female Life Expectancy at Birth\"].mean()\n",
    "\n",
    "print(\"Mean value of Male life expectancy is\", mean_male_expectancy,\\\n",
    "      \"\\nwhereas Mean value of Female life expectancy is\", mean_female_expectancy)\n",
    "\n",
    "who = whoHasGreaterLifeExpectancy(mean_male_expectancy, mean_female_expectancy)\n",
    "if who == \"F\":\n",
    "    print(\"Women seem to have a longer life expectancy than men!\")\n",
    "else:\n",
    "    print(\"Men seem to have a longer life expectancy than women!\")"
   ]
  },
  {
   "cell_type": "markdown",
   "metadata": {},
   "source": [
    "Insight: \n",
    "- Women seem to have a longer life expectancy than men on an average (by about 5 years)."
   ]
  },
  {
   "cell_type": "markdown",
   "metadata": {},
   "source": [
    "### Insight 3"
   ]
  },
  {
   "cell_type": "code",
   "execution_count": 12,
   "metadata": {},
   "outputs": [
    {
     "data": {
      "text/html": [
       "<div>\n",
       "<style scoped>\n",
       "    .dataframe tbody tr th:only-of-type {\n",
       "        vertical-align: middle;\n",
       "    }\n",
       "\n",
       "    .dataframe tbody tr th {\n",
       "        vertical-align: top;\n",
       "    }\n",
       "\n",
       "    .dataframe thead th {\n",
       "        text-align: right;\n",
       "    }\n",
       "</style>\n",
       "<table border=\"1\" class=\"dataframe\">\n",
       "  <thead>\n",
       "    <tr style=\"text-align: right;\">\n",
       "      <th></th>\n",
       "      <th>Literacy Ranking</th>\n",
       "      <th>Territory</th>\n",
       "      <th>Literacy Rate</th>\n",
       "      <th>Development Level</th>\n",
       "    </tr>\n",
       "  </thead>\n",
       "  <tbody>\n",
       "    <tr>\n",
       "      <th>56</th>\n",
       "      <td>1.0</td>\n",
       "      <td>Cuba</td>\n",
       "      <td>99.8</td>\n",
       "      <td>High</td>\n",
       "    </tr>\n",
       "    <tr>\n",
       "      <th>68</th>\n",
       "      <td>1.0</td>\n",
       "      <td>Estonia</td>\n",
       "      <td>99.8</td>\n",
       "      <td>High</td>\n",
       "    </tr>\n",
       "    <tr>\n",
       "      <th>80</th>\n",
       "      <td>1.0</td>\n",
       "      <td>Georgia</td>\n",
       "      <td>100.0</td>\n",
       "      <td>Medium</td>\n",
       "    </tr>\n",
       "    <tr>\n",
       "      <th>119</th>\n",
       "      <td>1.0</td>\n",
       "      <td>Latvia</td>\n",
       "      <td>99.8</td>\n",
       "      <td>High</td>\n",
       "    </tr>\n",
       "  </tbody>\n",
       "</table>\n",
       "</div>"
      ],
      "text/plain": [
       "     Literacy Ranking Territory  Literacy Rate Development Level\n",
       "56                1.0      Cuba           99.8              High\n",
       "68                1.0   Estonia           99.8              High\n",
       "80                1.0   Georgia          100.0            Medium\n",
       "119               1.0    Latvia           99.8              High"
      ]
     },
     "execution_count": 12,
     "metadata": {},
     "output_type": "execute_result"
    }
   ],
   "source": [
    "# Country that has # 1 Literary Ranking\n",
    "\n",
    "demographics[demographics[\"Literacy Ranking\"] == 1][[\"Literacy Ranking\", \"Territory\", \"Literacy Rate\", \"Development Level\"]]"
   ]
  },
  {
   "cell_type": "markdown",
   "metadata": {},
   "source": [
    "Insight:\n",
    "- Interestingly, there are 4 countries that share the Literacy Ranking of 1\n",
    "\n",
    "- Another interesting insight is that, their Literacy Rates show a slight difference\n",
    "\n",
    "- Finally, we see that the countries that have great literacy ranking are developed. \n",
    "- But the dataset also has \"Very High\" developed nations which just shows that having top Literacy ranking does not guarantee \"Very High\" development levels."
   ]
  },
  {
   "cell_type": "markdown",
   "metadata": {},
   "source": [
    "## Groupby analysis (10 pts)\n",
    "Perform at least one analysis using groupby"
   ]
  },
  {
   "cell_type": "code",
   "execution_count": 13,
   "metadata": {},
   "outputs": [
    {
     "data": {
      "text/html": [
       "<div>\n",
       "<style scoped>\n",
       "    .dataframe tbody tr th:only-of-type {\n",
       "        vertical-align: middle;\n",
       "    }\n",
       "\n",
       "    .dataframe tbody tr th {\n",
       "        vertical-align: top;\n",
       "    }\n",
       "\n",
       "    .dataframe thead th {\n",
       "        text-align: right;\n",
       "    }\n",
       "</style>\n",
       "<table border=\"1\" class=\"dataframe\">\n",
       "  <thead>\n",
       "    <tr style=\"text-align: right;\">\n",
       "      <th></th>\n",
       "      <th>Infant Mortality Rate</th>\n",
       "      <th>Overall Life Expectancy at Birth</th>\n",
       "      <th>GDP per Capita</th>\n",
       "      <th>Literacy Rate</th>\n",
       "      <th>Health Expenditure per Capita</th>\n",
       "      <th>Territory</th>\n",
       "    </tr>\n",
       "    <tr>\n",
       "      <th>Development Level</th>\n",
       "      <th></th>\n",
       "      <th></th>\n",
       "      <th></th>\n",
       "      <th></th>\n",
       "      <th></th>\n",
       "      <th></th>\n",
       "    </tr>\n",
       "  </thead>\n",
       "  <tbody>\n",
       "    <tr>\n",
       "      <th>Low</th>\n",
       "      <td>81.41</td>\n",
       "      <td>52.345</td>\n",
       "      <td>977.715</td>\n",
       "      <td>43.65</td>\n",
       "      <td>59.0</td>\n",
       "      <td>24</td>\n",
       "    </tr>\n",
       "    <tr>\n",
       "      <th>Medium</th>\n",
       "      <td>37.00</td>\n",
       "      <td>68.035</td>\n",
       "      <td>4388.145</td>\n",
       "      <td>81.20</td>\n",
       "      <td>164.0</td>\n",
       "      <td>74</td>\n",
       "    </tr>\n",
       "    <tr>\n",
       "      <th>High</th>\n",
       "      <td>13.43</td>\n",
       "      <td>74.160</td>\n",
       "      <td>13106.220</td>\n",
       "      <td>96.50</td>\n",
       "      <td>689.0</td>\n",
       "      <td>43</td>\n",
       "    </tr>\n",
       "    <tr>\n",
       "      <th>Very High</th>\n",
       "      <td>4.38</td>\n",
       "      <td>79.420</td>\n",
       "      <td>35806.375</td>\n",
       "      <td>99.00</td>\n",
       "      <td>2754.0</td>\n",
       "      <td>38</td>\n",
       "    </tr>\n",
       "  </tbody>\n",
       "</table>\n",
       "</div>"
      ],
      "text/plain": [
       "                   Infant Mortality Rate  Overall Life Expectancy at Birth  \\\n",
       "Development Level                                                            \n",
       "Low                                81.41                            52.345   \n",
       "Medium                             37.00                            68.035   \n",
       "High                               13.43                            74.160   \n",
       "Very High                           4.38                            79.420   \n",
       "\n",
       "                   GDP per Capita  Literacy Rate  \\\n",
       "Development Level                                  \n",
       "Low                       977.715          43.65   \n",
       "Medium                   4388.145          81.20   \n",
       "High                    13106.220          96.50   \n",
       "Very High               35806.375          99.00   \n",
       "\n",
       "                   Health Expenditure per Capita  Territory  \n",
       "Development Level                                            \n",
       "Low                                         59.0         24  \n",
       "Medium                                     164.0         74  \n",
       "High                                       689.0         43  \n",
       "Very High                                 2754.0         38  "
      ]
     },
     "execution_count": 13,
     "metadata": {},
     "output_type": "execute_result"
    }
   ],
   "source": [
    "gropued_demographics = demographics.groupby(\"Development Level\")\\\n",
    ".agg({\"Infant Mortality Rate\": \"median\", \"Overall Life Expectancy at Birth\" : \"median\", \"GDP per Capita\" : \"median\",\\\n",
    "     \"Literacy Rate\" : \"median\", \"Health Expenditure per Capita\" : \"median\", \"Territory\" : \"count\"})\n",
    "gropued_demographics.sort_values(\"Infant Mortality Rate\", ascending = False)"
   ]
  },
  {
   "cell_type": "markdown",
   "metadata": {},
   "source": [
    "### Groupby analysis based on Development Level:\n",
    "\n",
    "I have analyzed 5 parameters with respect to \"Development Level\". The 5 parameters are\n",
    "<list>\n",
    "    <ul>\n",
    "        Infant Mortality Rate\n",
    "    </ul>\n",
    "    <ul>\n",
    "        Overall Life Expectancy at Birth\n",
    "    </ul>\n",
    "    <ul>\n",
    "        GDP per Capita\n",
    "    </ul>\n",
    "    <ul>\n",
    "        Literacy Rate\n",
    "    </ul>\n",
    "    <ul>\n",
    "        Health Expenditure per Capita\n",
    "    </ul>\n",
    "</list>\n",
    "\n",
    "I have grouped by \"Development Level\" to understand how each of these parameters are affected by the Developement level of the Territory / Country. I have also taken median of all these columns since mean might not be a true indicator.\n",
    "\n",
    "<b>Literacy Rate:</b>\n",
    "<p>Literacy Rate is directly correlated with Development Level. As Development level increases, literacy rate also increases. Rate of increase is not linear.</p>\n",
    "\n",
    "<b>Overall Life Expectancy at Birth:</b>\n",
    "<p>Overall Life Expectancy at Birth is directly correlated with Development Level. As Development level increases, Overall Life Expectancy at Birth also increases. Rate of increase is not linear.</p>\n",
    "\n",
    "<b>GDP per Capita:</b>\n",
    "<p>GDP per Capita is directly correlated with Development Level. As Development level increases, GDP per Capita also increases. Rate of increase is exponential.</p>\n",
    "\n",
    "<b>Health Expenditure per Capita:</b>\n",
    "<p>Health Expenditure per Capita is directly correlated with Development Level. As Development level increases, Health Expenditure per Capita also increases. Rate of increase is not linear.</p>\n",
    "\n",
    "<b>Infant Mortality Rate:</b>\n",
    "<p>Infant Mortality Rate is inversely correlated with Development Level. As Development level increases, Infant Mortality Rate decreases. Rate of decrease is not linear.</p>\n",
    "\n",
    "<b>Number of Territories / Countires </b>\n",
    "<p> The number of territories in each of the development level is not an equal split. Most of the territories are in the Medium level. And we see fewer territories in Low level.</p>\n",
    "    \n",
    "P.S: Territories in the context of this dataset is referring to Countries."
   ]
  },
  {
   "cell_type": "markdown",
   "metadata": {},
   "source": [
    "## Analysis with custom functions (15 points) \n",
    "Includes at least 2 custom functions. These may perform a custom analysis or data manipulation/cleaning operation. Functions that mimic built-in Numpy or Pandas functions are also acceptable. You may integrate these functions in other steps of the analysis. If this is the case, specify below in which section of the notebook you used a custom function."
   ]
  },
  {
   "cell_type": "markdown",
   "metadata": {},
   "source": [
    "Answer: I have used custom functions for Data Cleaning and Manipulation. Custom function is used to create a new column from existing column. Another custom function is used to remove $ values from a column to convert it to a float type."
   ]
  },
  {
   "cell_type": "markdown",
   "metadata": {},
   "source": [
    "## Univariate plots (5 points)\n",
    "Provide at least 3 univariate plots"
   ]
  },
  {
   "cell_type": "markdown",
   "metadata": {},
   "source": [
    "### Univariate plot 1"
   ]
  },
  {
   "cell_type": "code",
   "execution_count": 14,
   "metadata": {},
   "outputs": [],
   "source": [
    "import seaborn as sns"
   ]
  },
  {
   "cell_type": "code",
   "execution_count": 15,
   "metadata": {},
   "outputs": [
    {
     "data": {
      "text/plain": [
       "<matplotlib.axes._subplots.AxesSubplot at 0x278098f7fd0>"
      ]
     },
     "execution_count": 15,
     "metadata": {},
     "output_type": "execute_result"
    },
    {
     "data": {
      "image/png": "[encoded data removed]",
      "text/plain": [
       "<Figure size 432x288 with 1 Axes>"
      ]
     },
     "metadata": {
      "needs_background": "light"
     },
     "output_type": "display_data"
    }
   ],
   "source": [
    "# Population distribution\n",
    "\n",
    "sns.distplot(demographics[\"Population\"])"
   ]
  },
  {
   "cell_type": "markdown",
   "metadata": {},
   "source": [
    "The distribution of \"Population\" is heavily right skewed driven by two outlier countries India & China. \n",
    "\n",
    "Just for vizualization purposes, I will plot the distribution of population after removing India & China from the dataset temporarily."
   ]
  },
  {
   "cell_type": "code",
   "execution_count": 16,
   "metadata": {},
   "outputs": [],
   "source": [
    "# Making temporary copy of the dataframe to remove \"India\" & \"China\" rows.\n",
    "\n",
    "temp_demographics = demographics.copy(deep = False)\n",
    "\n",
    "# Removing India & China rows\n",
    "india_index = temp_demographics[temp_demographics[\"Territory\"] == \"India\"].index\n",
    "temp_demographics.drop(india_index, inplace = True)\n",
    "\n",
    "china_index = temp_demographics[temp_demographics[\"Territory\"] == \"China\"].index\n",
    "temp_demographics.drop(china_index, inplace = True)"
   ]
  },
  {
   "cell_type": "code",
   "execution_count": 17,
   "metadata": {},
   "outputs": [
    {
     "data": {
      "text/plain": [
       "<matplotlib.axes._subplots.AxesSubplot at 0x2780c366a20>"
      ]
     },
     "execution_count": 17,
     "metadata": {},
     "output_type": "execute_result"
    },
    {
     "data": {
      "image/png": "[encoded data removed]",
      "text/plain": [
       "<Figure size 432x288 with 1 Axes>"
      ]
     },
     "metadata": {
      "needs_background": "light"
     },
     "output_type": "display_data"
    }
   ],
   "source": [
    "# Population distribution after removing India & China rows\n",
    "\n",
    "sns.distplot(temp_demographics[\"Population\"])"
   ]
  },
  {
   "cell_type": "markdown",
   "metadata": {},
   "source": [
    "It is proven that the above distribution is also heavily right skewed."
   ]
  },
  {
   "cell_type": "markdown",
   "metadata": {},
   "source": [
    "### Univariate plot 2"
   ]
  },
  {
   "cell_type": "code",
   "execution_count": 18,
   "metadata": {},
   "outputs": [
    {
     "data": {
      "text/plain": [
       "<matplotlib.axes._subplots.AxesSubplot at 0x2780c45b518>"
      ]
     },
     "execution_count": 18,
     "metadata": {},
     "output_type": "execute_result"
    },
    {
     "data": {
      "image/png": "[encoded data removed]",
      "text/plain": [
       "<Figure size 432x288 with 1 Axes>"
      ]
     },
     "metadata": {
      "needs_background": "light"
     },
     "output_type": "display_data"
    }
   ],
   "source": [
    "# Box plot of Life expectancy\n",
    "\n",
    "sns.boxplot(data=demographics, x=\"Overall Life Expectancy at Birth\")"
   ]
  },
  {
   "cell_type": "code",
   "execution_count": 19,
   "metadata": {},
   "outputs": [
    {
     "data": {
      "text/plain": [
       "<matplotlib.axes._subplots.AxesSubplot at 0x2780c434da0>"
      ]
     },
     "execution_count": 19,
     "metadata": {},
     "output_type": "execute_result"
    },
    {
     "data": {
      "image/png": "[encoded data removed]",
      "text/plain": [
       "<Figure size 432x288 with 1 Axes>"
      ]
     },
     "metadata": {
      "needs_background": "light"
     },
     "output_type": "display_data"
    }
   ],
   "source": [
    "# Overall Life Expectancy at Birth distribution - Histogram\n",
    "\n",
    "sns.distplot(demographics[\"Overall Life Expectancy at Birth\"], hist= True, kde= False, color=\"y\")"
   ]
  },
  {
   "cell_type": "markdown",
   "metadata": {},
   "source": [
    "The distribution of \"Overall Life Expectancy at Birth\" is left skewed."
   ]
  },
  {
   "cell_type": "markdown",
   "metadata": {},
   "source": [
    "### Univariate plot 3"
   ]
  },
  {
   "cell_type": "code",
   "execution_count": 20,
   "metadata": {},
   "outputs": [
    {
     "data": {
      "text/plain": [
       "<matplotlib.axes._subplots.AxesSubplot at 0x2780c406780>"
      ]
     },
     "execution_count": 20,
     "metadata": {},
     "output_type": "execute_result"
    },
    {
     "data": {
      "image/png": "[encoded data removed]",
      "text/plain": [
       "<Figure size 432x288 with 1 Axes>"
      ]
     },
     "metadata": {
      "needs_background": "light"
     },
     "output_type": "display_data"
    }
   ],
   "source": [
    "# Male Life Expectancy at Birth distribution - KDE plot\n",
    "\n",
    "sns.distplot(demographics[\"Male Life Expectancy at Birth\"], hist= False, color=\"blue\")"
   ]
  },
  {
   "cell_type": "code",
   "execution_count": 21,
   "metadata": {},
   "outputs": [
    {
     "data": {
      "text/plain": [
       "<matplotlib.axes._subplots.AxesSubplot at 0x2780c520b00>"
      ]
     },
     "execution_count": 21,
     "metadata": {},
     "output_type": "execute_result"
    },
    {
     "data": {
      "image/png": "[encoded data removed]",
      "text/plain": [
       "<Figure size 432x288 with 1 Axes>"
      ]
     },
     "metadata": {
      "needs_background": "light"
     },
     "output_type": "display_data"
    }
   ],
   "source": [
    "# Female Life Expectancy at Birth distribution - KDE plot\n",
    "\n",
    "sns.distplot(demographics[\"Female Life Expectancy at Birth\"], hist= False, color=\"magenta\")"
   ]
  },
  {
   "cell_type": "markdown",
   "metadata": {},
   "source": [
    "I have plotted 2 univariate graphs showing the distribution of \"Male Life Expectancy at Birth\" and \"Female Life Expectancy at Birth\".\n",
    "The plots are similar but the distribution is more after 70 for Female."
   ]
  },
  {
   "cell_type": "markdown",
   "metadata": {},
   "source": [
    "## Bivariate plots (10 points)\n",
    "Provide at least 2 bivariate plots"
   ]
  },
  {
   "cell_type": "markdown",
   "metadata": {},
   "source": [
    "### Bivariate plot 1"
   ]
  },
  {
   "cell_type": "code",
   "execution_count": 22,
   "metadata": {},
   "outputs": [
    {
     "data": {
      "text/plain": [
       "<matplotlib.axes._subplots.AxesSubplot at 0x2780c5a7550>"
      ]
     },
     "execution_count": 22,
     "metadata": {},
     "output_type": "execute_result"
    },
    {
     "data": {
      "image/png": "[encoded data removed]",
      "text/plain": [
       "<Figure size 432x288 with 1 Axes>"
      ]
     },
     "metadata": {
      "needs_background": "light"
     },
     "output_type": "display_data"
    }
   ],
   "source": [
    "# GDP per Capita and Health Expenditure per Capita\n",
    "sorted_demographics = demographics.sort_values(\"GDP per Capita\")\n",
    "cmap = sns.cubehelix_palette(dark=.3, light=.8, as_cmap=True)\n",
    "sns.boxplot(y=\"GDP per Capita\", x=\"Development Level\", data = sorted_demographics)"
   ]
  },
  {
   "cell_type": "markdown",
   "metadata": {},
   "source": [
    "We observe a direct relationship, i.e. the GDP per Capita is more for countires with higher development level."
   ]
  },
  {
   "cell_type": "markdown",
   "metadata": {},
   "source": [
    "### Bivariate plot 2"
   ]
  },
  {
   "cell_type": "code",
   "execution_count": 23,
   "metadata": {},
   "outputs": [
    {
     "data": {
      "text/plain": [
       "<matplotlib.axes._subplots.AxesSubplot at 0x2780c4a27f0>"
      ]
     },
     "execution_count": 23,
     "metadata": {},
     "output_type": "execute_result"
    },
    {
     "data": {
      "image/png": "[encoded data removed]",
      "text/plain": [
       "<Figure size 432x288 with 1 Axes>"
      ]
     },
     "metadata": {
      "needs_background": "light"
     },
     "output_type": "display_data"
    }
   ],
   "source": [
    "sns.scatterplot(x =\"Infant Mortality Rate\", y=\"Health Expenditure per Capita\", data = demographics)"
   ]
  },
  {
   "cell_type": "markdown",
   "metadata": {},
   "source": [
    "We observe an inverse relationship, i.e. the higher the health expenditure per capita, the infant mortality rate goes down <b>exponentially</b>."
   ]
  },
  {
   "cell_type": "markdown",
   "metadata": {},
   "source": [
    "## Multivariate plot (10 points)\n",
    "Provide at least 1 multivariate"
   ]
  },
  {
   "cell_type": "markdown",
   "metadata": {},
   "source": [
    "### Multivariate plot 1"
   ]
  },
  {
   "cell_type": "code",
   "execution_count": 24,
   "metadata": {},
   "outputs": [
    {
     "data": {
      "text/plain": [
       "<matplotlib.axes._subplots.AxesSubplot at 0x2780c724128>"
      ]
     },
     "execution_count": 24,
     "metadata": {},
     "output_type": "execute_result"
    },
    {
     "data": {
      "image/png": "[encoded data removed]",
      "text/plain": [
       "<Figure size 432x288 with 1 Axes>"
      ]
     },
     "metadata": {
      "needs_background": "light"
     },
     "output_type": "display_data"
    }
   ],
   "source": [
    "# scatter plot with 3 variables\n",
    "sns.scatterplot(x=\"GDP per Capita\", y=\"Average Years of Education of Adults\", hue = \"Development Level\", data = demographics)"
   ]
  },
  {
   "cell_type": "markdown",
   "metadata": {},
   "source": [
    "We can see a general positive trend with higher development levels having higher average years of education of adults.\n",
    "\n",
    "Representing the same data in terms of cat plot below:"
   ]
  },
  {
   "cell_type": "code",
   "execution_count": 25,
   "metadata": {},
   "outputs": [
    {
     "data": {
      "text/plain": [
       "<seaborn.axisgrid.FacetGrid at 0x2780c406080>"
      ]
     },
     "execution_count": 25,
     "metadata": {},
     "output_type": "execute_result"
    },
    {
     "data": {
      "image/png": "[encoded data removed]",
      "text/plain": [
       "<Figure size 1440x360 with 4 Axes>"
      ]
     },
     "metadata": {
      "needs_background": "light"
     },
     "output_type": "display_data"
    }
   ],
   "source": [
    "# the same data above is represented as a catplot\n",
    "sns.catplot(data=demographics, x=\"GDP per Capita\", y=\"Average Years of Education of Adults\", kind=\"strip\", col=\"Development Level\")"
   ]
  },
  {
   "cell_type": "markdown",
   "metadata": {},
   "source": [
    "## Conclusions (20 points)\n",
    "Summarize your conclusions including discovered insights. "
   ]
  },
  {
   "cell_type": "markdown",
   "metadata": {},
   "source": [
    "Here is a summary of the insights from all the above analysis:<br><br>\n",
    "\n",
    "\n",
    "<b>1. Life Expectancy of Male and Female:</b>\n",
    "<span>\n",
    "- Mean Female Life expectancy came out to be higher than Mean Male Life expectancy.\n",
    "- When plotting the distribution of male and female life expectancy, even though the plots looked similar, the distribution has higher population after 70 for Female. This again proves the above point.<br><br>\n",
    "</span>\n",
    "<b>2. Total Median Age:</b>\n",
    "<span>\n",
    "- The countires with highest median age are all Very highly developed with a very high GDP.\n",
    "- On the contrary, the countires with lowest median age are not well developed (either Low / Medium) and have lower GDP.\n",
    "- One possible explanation is that when a country becomes developed, population growth rate decreases hence Median age increases.\n",
    "- Another possible explanation can be that when a lot of population is much younger than the working age, the country's GDP is low.<br><br>\n",
    "</span>\n",
    "<b>3. Literacy Ranking:</b>\n",
    "<span>\n",
    "- Interestingly, there are 4 countries that share the Literacy Ranking of 1.\n",
    "- Another interesting insight is that, their Literacy Rates show a slight difference.\n",
    "- Finally, we see that the countries that have great literacy ranking are developed. \n",
    "- But the dataset also has \"Very High\" developed nations which just shows that having top Literacy ranking does not guarantee \"Very High\" development levels.\n",
    "- The countries that had highest literacy ranking fell into different levels of development.<br><br>\n",
    "</span> \n",
    "<b>4. Group by analysis based on Developement Level:</b>\n",
    "<span>\n",
    "    \n",
    "I have grouped by \"Development Level\" to understand how each of these parameters are affected by the Developement level of the Territory / Country. I have also taken median of all these columns since mean might not be a true indicator.\n",
    "\n",
    "- Literacy Rate:\n",
    "Literacy Rate is directly correlated with Development Level. As Development level increases, literacy rate also increases. Rate of increase is not linear.\n",
    "\n",
    "- Overall Life Expectancy at Birth:\n",
    "Overall Life Expectancy at Birth is directly correlated with Development Level. As Development level increases, Overall Life Expectancy at Birth also increases. Rate of increase is not linear.\n",
    "\n",
    "- GDP per Capita:\n",
    "GDP per Capita is directly correlated with Development Level. As Development level increases, GDP per Capita also increases. Rate of increase is exponential.\n",
    "\n",
    "- Health Expenditure per Capita:\n",
    "Health Expenditure per Capita is directly correlated with Development Level. As Development level increases, Health Expenditure per Capita also increases. Rate of increase is not linear.\n",
    "\n",
    "- Infant Mortality Rate:\n",
    "Infant Mortality Rate is inversely correlated with Development Level. As Development level increases, Infant Mortality Rate decreases. Rate of decrease is not linear.\n",
    "\n",
    "- Number of Territories / Countires\n",
    "The umber of territories in each of the development level is not an equal split. Most of the territories are in the Medium level. And we see realtively less number of territories in Low level.\n",
    "    \n",
    "P.S: Territories in the context of this dataset is referring to Countries.<br><br>\n",
    "</span>\n",
    "<b>5. Population:</b>\n",
    "<span>\n",
    "- The distribution of \"Population\" is heavily right skewed.\n",
    "- It has 2 outlier countries India and China. <br><br>\n",
    "</span>\n",
    "<b>6. Overall Life Expectancy at Birth:</b>\n",
    "<span>\n",
    "- The box plot of \"Overall Life Expectancy at Birth\" shows that the median life expectancy is ~ 73 years.\n",
    "- The distribution of \"Overall Life Expectancy at Birth\" is left skewed. <br><br>\n",
    "</span>\n",
    "<b>7. Relationship between Health Expenditure per capita and Infant Mortality Rate:</b>\n",
    "<span>\n",
    "- We observe an inverse relationship, i.e. the higher the health expenditure per capita, the infant mortality rate goes down exponentially.<br><br>\n",
    "</span>\n",
    "<b>8. Relationship between Development Level and GDP Per capita: </b>\n",
    "<span>\n",
    "- We observe a direct relationship, i.e. the GDP per Capita is more for countires with higher development level.<br><br>\n",
    "</span>\n",
    "<b>9. Relationship between GDP per Capita, Average Years of Education of Adults and Developement Level: </b>\n",
    "<span>\n",
    "- We can see a general positive trend with higher development level countries having higher average years of education of adults.\n",
    "- For low development levels, there is no increase in GDP from 1 to 5 years.\n",
    "- There is a quantum increase in GDP per capita as we go from a lower development level to a higher one.\n",
    "- This indicates that not all the increase in GDP per capita can be explained by increased years of adult education, because the per capita income of a higher development level is higher than that for a lower one, at the same education duration.\n",
    "\n",
    "    \n"
   ]
  },
  {
   "cell_type": "markdown",
   "metadata": {},
   "source": [
    "## Code is functional and runs without error (10 pts)\n",
    "Verify this by following these steps.\n",
    "\n",
    "1) Reset Kernel. Kernel>>Restart Kernel...\n",
    "\n",
    "2) Rerun all cells. Run>>Run All Cells"
   ]
  }
 ],
 "metadata": {
  "kernelspec": {
   "display_name": "Python 3",
   "language": "python",
   "name": "python3"
  },
  "language_info": {
   "codemirror_mode": {
    "name": "ipython",
    "version": 3
   },
   "file_extension": ".py",
   "mimetype": "text/x-python",
   "name": "python",
   "nbconvert_exporter": "python",
   "pygments_lexer": "ipython3",
   "version": "3.7.3"
  }
 },
 "nbformat": 4,
 "nbformat_minor": 2
}
